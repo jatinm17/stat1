{
 "cells": [
  {
   "cell_type": "code",
   "execution_count": 1,
   "id": "cf1e0ace-9efa-4cdf-b0ce-9499e1bb0957",
   "metadata": {},
   "outputs": [],
   "source": [
    "# STATISTIC ASSIGNMENT "
   ]
  },
  {
   "cell_type": "code",
   "execution_count": 2,
   "id": "1a8284a7-bfd1-4a0a-8399-76919ecfdee4",
   "metadata": {},
   "outputs": [
    {
     "data": {
      "text/plain": [
       "\"a probability density function (PDF) is used to define the random variable's probability coming within a distinct range of values, as opposed to taking on any one value. The function explains the probability density function of normal distribution and how mean and deviation exists.\""
      ]
     },
     "execution_count": 2,
     "metadata": {},
     "output_type": "execute_result"
    }
   ],
   "source": [
    "# QUES 1 \n",
    "'''a probability density function (PDF) is used to define the random variable's probability coming within a distinct range of values, as opposed to taking on any one value. The function explains the probability density function of normal distribution and how mean and deviation exists.'''"
   ]
  },
  {
   "cell_type": "code",
   "execution_count": 3,
   "id": "a0a93221-f5db-4403-9df4-7b81265315ea",
   "metadata": {},
   "outputs": [
    {
     "data": {
      "text/plain": [
       "'Probability distribution is of six types\\n1 normal or gaussian distribution\\n2 bernouli distribution\\n3 uniform distribution\\n4 poisson distribution\\n5 log  normal distribution\\n6 binomial distribution'"
      ]
     },
     "execution_count": 3,
     "metadata": {},
     "output_type": "execute_result"
    }
   ],
   "source": [
    "# question 2\n",
    "'''Probability distribution is of six types\n",
    "1 normal or gaussian distribution\n",
    "2 bernouli distribution\n",
    "3 uniform distribution\n",
    "4 poisson distribution\n",
    "5 log  normal distribution\n",
    "6 bionomial distribution'''\n"
   ]
  },
  {
   "cell_type": "code",
   "execution_count": 4,
   "id": "38f63ffc-6653-4fcc-9d72-6ed8bbc6d96f",
   "metadata": {},
   "outputs": [
    {
     "data": {
      "text/plain": [
       "' Properties of bionomial distribution are:\\n1 Used for discrete variable\\n2 every experiment outcome is binary\\n3 Experiment can be perform n number of time\\nexample of bionomial distribution are:\\n1. Tossing coin 10 times.\\n2. Defect in manufacturing of product'"
      ]
     },
     "execution_count": 4,
     "metadata": {},
     "output_type": "execute_result"
    }
   ],
   "source": [
    "# QUESTION 4\n",
    "''' Properties of bionomial distribution are:\n",
    "1 Used for discrete variable\n",
    "2 every experiment outcome is binary\n",
    "3 Experiment can be perform n number of time\n",
    "example of bionomial distribution are:\n",
    "1. Tossing coin 10 times.\n",
    "2. Defect in manufacturing of product'''"
   ]
  },
  {
   "cell_type": "code",
   "execution_count": 5,
   "id": "c4e9b772-f429-4cbb-b7d0-987371c7cf57",
   "metadata": {},
   "outputs": [
    {
     "name": "stdout",
     "output_type": "stream",
     "text": [
      "0.0804410163156249\n"
     ]
    }
   ],
   "source": [
    "# Question 3\n",
    "\n",
    "from scipy.stats import norm\n",
    "import numpy as np\n",
    "  \n",
    "data_start = -5\n",
    "data_end = 5\n",
    "data_points = 11\n",
    "data = np.linspace(data_start, data_end, data_points)\n",
    "  \n",
    "mean = np.mean(data)\n",
    "std = np.std(data)\n",
    "  \n",
    "probability_pdf = norm.pdf(3, loc=mean, scale=std)\n",
    "print(probability_pdf)\n"
   ]
  },
  {
   "cell_type": "code",
   "execution_count": 8,
   "id": "f526bc5e-073b-4ed2-bdf2-3c96ce24ef82",
   "metadata": {},
   "outputs": [
    {
     "data": {
      "text/plain": [
       "(array([1., 0., 0., 0., 0., 0., 0., 0., 0., 1.]),\n",
       " array([240., 256., 272., 288., 304., 320., 336., 352., 368., 384., 400.]),\n",
       " <BarContainer object of 10 artists>)"
      ]
     },
     "execution_count": 8,
     "metadata": {},
     "output_type": "execute_result"
    },
    {
     "data": {
      "image/png": "[encoded data removed]",
      "text/plain": [
       "<Figure size 640x480 with 1 Axes>"
      ]
     },
     "metadata": {},
     "output_type": "display_data"
    }
   ],
   "source": [
    "# QUESTION 5\n",
    "from scipy.stats import binom\n",
    "import matplotlib.pyplot as plt\n",
    "x=binom.stats(1000,0.4)\n",
    "plt.hist(x)"
   ]
  },
  {
   "cell_type": "code",
   "execution_count": 9,
   "id": "7b577441-4754-4326-8fff-b0aa50fa82d8",
   "metadata": {},
   "outputs": [
    {
     "data": {
      "text/plain": [
       "'Binomial distribution describes the distribution of binary data from a finite sample. Thus it gives the probability of getting r events out of n trials. Poisson distribution describes the distribution of binary data from an infinite sample. Thus it gives the probability of getting r events in a population.'"
      ]
     },
     "execution_count": 9,
     "metadata": {},
     "output_type": "execute_result"
    }
   ],
   "source": [
    "# QUESTION 7\n",
    "'''Binomial distribution describes the distribution of binary data from a finite sample. Thus it gives the probability of getting r events out of n trials. Poisson distribution describes the distribution of binary data from an infinite sample. Thus it gives the probability of getting r events in a population.'''"
   ]
  },
  {
   "cell_type": "code",
   "execution_count": 1,
   "id": "07f23a64-a48c-4d4c-9b0f-5c684ce4178c",
   "metadata": {},
   "outputs": [
    {
     "data": {
      "text/plain": [
       "' for binomial distribution mean=  np and variance =npq\\n    for poisson distribution mean==variance== lambda*t'"
      ]
     },
     "execution_count": 1,
     "metadata": {},
     "output_type": "execute_result"
    }
   ],
   "source": [
    "# QUESTION 9\n",
    "''' for binomial distribution mean=  np and variance =npq\n",
    "    for poisson distribution mean==variance== lambda*t'''"
   ]
  },
  {
   "cell_type": "code",
   "execution_count": 2,
   "id": "407fed49-6c32-4cb3-86c9-017289b9910c",
   "metadata": {},
   "outputs": [
    {
     "data": {
      "text/plain": [
       "'A normal distribution is symmetric from the peak of the curve, where the mean is. This means that most of the observed data is clustered near the mean, while the data become less frequent when farther away from the mean.'"
      ]
     },
     "execution_count": 2,
     "metadata": {},
     "output_type": "execute_result"
    }
   ],
   "source": [
    "# QUESTION 10\n",
    "'''A normal distribution is symmetric from the peak of the curve, where the mean is. This means that most of the observed data is clustered near the mean, while the data become less frequent when farther away from the mean.'''"
   ]
  },
  {
   "cell_type": "code",
   "execution_count": 8,
   "id": "ecc7de1f-ae73-4516-a6d7-0692d5a59ccf",
   "metadata": {},
   "outputs": [
    {
     "name": "stdout",
     "output_type": "stream",
     "text": [
      "5.024\n"
     ]
    },
    {
     "data": {
      "text/plain": [
       "(array([ 36.,  94., 311., 163., 132., 198.,  30.,  32.,   1.,   3.]),\n",
       " array([ 0. ,  1.4,  2.8,  4.2,  5.6,  7. ,  8.4,  9.8, 11.2, 12.6, 14. ]),\n",
       " <BarContainer object of 10 artists>)"
      ]
     },
     "execution_count": 8,
     "metadata": {},
     "output_type": "execute_result"
    },
    {
     "data": {
      "image/png": "[encoded data removed]",
      "text/plain": [
       "<Figure size 640x480 with 1 Axes>"
      ]
     },
     "metadata": {},
     "output_type": "display_data"
    }
   ],
   "source": [
    "# QUESTION 8\n",
    "from scipy.stats import poisson\n",
    "import numpy as np\n",
    "import matplotlib.pyplot as plt\n",
    "x=poisson.rvs(mu=5,size=1000)\n",
    "print(np.mean(x))\n",
    "print(np)\n",
    "plt.hist(x,edgecolor='black')"
   ]
  },
  {
   "cell_type": "code",
   "execution_count": null,
   "id": "743941cd-e1fa-40db-b3ba-de6cd7e6dbe2",
   "metadata": {},
   "outputs": [],
   "source": []
  }
 ],
 "metadata": {
  "kernelspec": {
   "display_name": "Python 3 (ipykernel)",
   "language": "python",
   "name": "python3"
  },
  "language_info": {
   "codemirror_mode": {
    "name": "ipython",
    "version": 3
   },
   "file_extension": ".py",
   "mimetype": "text/x-python",
   "name": "python",
   "nbconvert_exporter": "python",
   "pygments_lexer": "ipython3",
   "version": "3.10.8"
  }
 },
 "nbformat": 4,
 "nbformat_minor": 5
}
